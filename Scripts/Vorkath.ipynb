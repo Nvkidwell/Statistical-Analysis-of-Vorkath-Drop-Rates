{
 "cells": [
  {
   "cell_type": "code",
   "execution_count": 1,
   "metadata": {},
   "outputs": [],
   "source": [
    "import json\n",
    "import pandas as pd\n",
    "\n",
    "#Parse a single log entry\n",
    "def parse_log_entry(log_entry):\n",
    "    parsed_entry = json.loads(log_entry)\n",
    "    return parsed_entry\n",
    "\n",
    "# Reads log file\n",
    "log_file_path = 'C:\\\\Users\\\\nvkid\\\\OneDrive\\\\Desktop\\\\Data Science Project\\\\vorkath.log'\n",
    "parsed_logs = []\n",
    "\n",
    "with open(log_file_path, 'r') as file:\n",
    "    for line in file:\n",
    "        parsed_line = parse_log_entry(line.strip())\n",
    "        parsed_logs.append(parsed_line)\n",
    "\n",
    "# Extracts data and formats it into a structured list\n",
    "data = []\n",
    "for entry in parsed_logs:\n",
    "    base_info = {\n",
    "        'Name': entry['name'],\n",
    "        'Level': entry['level'],\n",
    "        'KillCount': entry['killCount'],\n",
    "        'Type': entry['type'],\n",
    "        'Date': entry['date']\n",
    "    }\n",
    "    for drop in entry['drops']:\n",
    "        drop_info = {\n",
    "            'Drop_Name': drop['name'],\n",
    "            'Drop_ID': drop['id'],\n",
    "            'Drop_Quantity': drop['quantity'],\n",
    "            'Drop_Price': drop['price']\n",
    "        }\n",
    "        combined_info = {**base_info, **drop_info}\n",
    "        data.append(combined_info)\n",
    "\n",
    "# Converts structured list into a DataFrame\n",
    "df = pd.DataFrame(data)\n",
    "\n",
    "# Converts field to a datetime object\n",
    "df['Date'] = pd.to_datetime(df['Date'], format='%b %d, %Y, %I:%M:%S %p')\n",
    "\n",
    "# Styles DataFrame to center headers (readability)\n",
    "styled_df = df.style.set_table_styles(\n",
    "    [{'selector': 'th', 'props': [('text-align', 'center')]}]\n",
    ").set_properties(**{'text-align': 'center'})\n",
    "\n",
    "# Displays DataFrame\n",
    "styled_df\n",
    "\n",
    "df.to_csv('Vorkath.csv', index=False)\n"
   ]
  }
 ],
 "metadata": {
  "kernelspec": {
   "display_name": "Python 3",
   "language": "python",
   "name": "python3"
  },
  "language_info": {
   "codemirror_mode": {
    "name": "ipython",
    "version": 3
   },
   "file_extension": ".py",
   "mimetype": "text/x-python",
   "name": "python",
   "nbconvert_exporter": "python",
   "pygments_lexer": "ipython3",
   "version": "3.12.1"
  }
 },
 "nbformat": 4,
 "nbformat_minor": 2
}
